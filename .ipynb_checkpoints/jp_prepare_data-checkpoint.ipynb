{
 "cells": [
  {
   "cell_type": "code",
   "execution_count": null,
   "metadata": {},
   "outputs": [],
   "source": [
    "import pandas as pd\n",
    "import torch\n",
    "import matplotlib.pyplot as plt\n",
    "from sklearn.preprocessing import MinMaxScaler"
   ]
  },
  {
   "cell_type": "code",
   "execution_count": null,
   "metadata": {},
   "outputs": [],
   "source": [
    "test_data = pd.read_csv('test.csv')\n",
    "train_data = pd.read_csv('train.csv')\n",
    "\n",
    "test_data_scaled = test_data.copy()\n",
    "train_data_scaled = train_data.copy()\n",
    "\n",
    "print(test_data)\n",
    "print(test_data_scaled)\n",
    "test_data.dtypes\n",
    "# test_data.values"
   ]
  },
  {
   "cell_type": "code",
   "execution_count": null,
   "metadata": {},
   "outputs": [],
   "source": [
    "scaler = MinMaxScaler()\n",
    "\n",
    "test_data_scaled[['ApplicantIncome','CoapplicantIncome','LoanAmount','Loan_Amount_Term','Credit_History']] = scaler.fit_transform(test_data_scaled[['ApplicantIncome','CoapplicantIncome','LoanAmount','Loan_Amount_Term','Credit_History']])\n",
    "\n",
    "print(test_data_scaled)\n",
    "print(test_data)"
   ]
  },
  {
   "cell_type": "code",
   "execution_count": null,
   "metadata": {},
   "outputs": [],
   "source": [
    "ax = plt.gca()\n",
    "\n",
    "test_data_scaled.plot(kind='line', x='Loan_ID', y='ApplicantIncome', ax=ax)\n",
    "# test_data.plot(kind='line', x='Loan_ID', y='CoapplicantIncome', ax=ax)\n",
    "test_data_scaled.plot(kind='line', x='Loan_ID', y='LoanAmount', ax=ax)\n",
    "\n",
    "plt.show()"
   ]
  },
  {
   "cell_type": "code",
   "execution_count": null,
   "metadata": {},
   "outputs": [],
   "source": [
    "print(train_data_scaled)\n",
    "print(train_data)\n",
    "train_data.dtypes"
   ]
  },
  {
   "cell_type": "code",
   "execution_count": null,
   "metadata": {},
   "outputs": [],
   "source": [
    "train_data_scaled[['ApplicantIncome','CoapplicantIncome','LoanAmount','Loan_Amount_Term','Credit_History']] = scaler.fit_transform(train_data_scaled[['ApplicantIncome','CoapplicantIncome','LoanAmount','Loan_Amount_Term','Credit_History']])\n",
    "\n",
    "print(train_data_scaled)\n",
    "print(train_data)"
   ]
  },
  {
   "cell_type": "code",
   "execution_count": null,
   "metadata": {
    "scrolled": true
   },
   "outputs": [],
   "source": [
    "ay = plt.gca()\n",
    "\n",
    "train_data_scaled.plot(kind='scatter',x='LoanAmount',y='ApplicantIncome',ax=ay)\n",
    "# train_data.plot(kind='line',x='Loan_ID',y='CoapplicantIncome',ax=ay)\n",
    "\n",
    "plt.show()\n",
    "\n",
    "az = plt.gca()\n",
    "\n",
    "train_data.plot(kind='scatter',x='LoanAmount',y='ApplicantIncome',ax=az)\n",
    "\n",
    "plt.show()\n"
   ]
  },
  {
   "cell_type": "code",
   "execution_count": null,
   "metadata": {},
   "outputs": [],
   "source": [
    "###### Cek data NaN #######"
   ]
  },
  {
   "cell_type": "code",
   "execution_count": null,
   "metadata": {
    "scrolled": true
   },
   "outputs": [],
   "source": [
    "##### Cek NaN data test #####\n",
    "\n",
    "test_data[test_data.isnull().any(axis=1)]"
   ]
  },
  {
   "cell_type": "code",
   "execution_count": null,
   "metadata": {},
   "outputs": [],
   "source": [
    "a = test_data.count()\n",
    "print(a)"
   ]
  },
  {
   "cell_type": "code",
   "execution_count": null,
   "metadata": {},
   "outputs": [],
   "source": [
    "b = test_data['Gender'].value_counts()\n",
    "print(b)\n",
    "test_data = test_data.fillna({'Gender':'Male'})"
   ]
  },
  {
   "cell_type": "code",
   "execution_count": null,
   "metadata": {},
   "outputs": [],
   "source": [
    "c = test_data['Dependents'].value_counts()\n",
    "print(c)\n",
    "test_data = test_data.fillna({'Dependents':'0'})"
   ]
  },
  {
   "cell_type": "code",
   "execution_count": null,
   "metadata": {},
   "outputs": [],
   "source": [
    "d = test_data['Self_Employed'].value_counts()\n",
    "print(d)\n",
    "test_data = test_data.fillna({'Self_Employed':'No'})"
   ]
  },
  {
   "cell_type": "code",
   "execution_count": null,
   "metadata": {},
   "outputs": [],
   "source": [
    "e = test_data['LoanAmount'].value_counts()\n",
    "print(e)\n",
    "test_data = test_data.fillna({'LoanAmount':150.0})\n",
    "\n",
    "####### Checkj thiss later !!!"
   ]
  },
  {
   "cell_type": "code",
   "execution_count": null,
   "metadata": {},
   "outputs": [],
   "source": [
    "f = test_data['Loan_Amount_Term'].value_counts()\n",
    "print(f)\n",
    "test_data = test_data.fillna({'Loan_Amount_Term':360.0})\n",
    "\n",
    "####### Checkj thiss later !!!"
   ]
  },
  {
   "cell_type": "code",
   "execution_count": null,
   "metadata": {},
   "outputs": [],
   "source": [
    "g = test_data['Credit_History'].value_counts()\n",
    "print(g)\n",
    "test_data = test_data.fillna({'Credit_History':1.0})"
   ]
  },
  {
   "cell_type": "code",
   "execution_count": null,
   "metadata": {
    "scrolled": true
   },
   "outputs": [],
   "source": [
    "##### Cek NaN data train #####\n",
    "\n",
    "train_data[train_data.isnull().any(axis=1)]"
   ]
  },
  {
   "cell_type": "code",
   "execution_count": null,
   "metadata": {},
   "outputs": [],
   "source": [
    "h = train_data.count()\n",
    "print(h)"
   ]
  },
  {
   "cell_type": "code",
   "execution_count": null,
   "metadata": {},
   "outputs": [],
   "source": [
    "i = train_data['Gender'].value_counts()\n",
    "print(i)\n",
    "train_data = train_data.fillna({'Gender':'Male'})"
   ]
  },
  {
   "cell_type": "code",
   "execution_count": null,
   "metadata": {},
   "outputs": [],
   "source": [
    "j = train_data['Married'].value_counts()\n",
    "print(j)\n",
    "train_data = train_data.fillna({'Married':'Yes'})"
   ]
  },
  {
   "cell_type": "code",
   "execution_count": null,
   "metadata": {},
   "outputs": [],
   "source": [
    "k = train_data['Dependents'].value_counts()\n",
    "print(k)\n",
    "train_data = train_data.fillna({'Dependents':'0'})"
   ]
  },
  {
   "cell_type": "code",
   "execution_count": null,
   "metadata": {},
   "outputs": [],
   "source": [
    "l = train_data['Self_Employed'].value_counts()\n",
    "print(l)\n",
    "train_data = train_data.fillna({'Self_Employed':'No'})"
   ]
  },
  {
   "cell_type": "code",
   "execution_count": null,
   "metadata": {},
   "outputs": [],
   "source": [
    "m = train_data['LoanAmount'].value_counts()\n",
    "print(m)\n",
    "train_data = train_data.fillna({'LoanAmount':120.0})"
   ]
  },
  {
   "cell_type": "code",
   "execution_count": null,
   "metadata": {},
   "outputs": [],
   "source": [
    "n = train_data['Loan_Amount_Term'].value_counts()\n",
    "print(n)\n",
    "train_data = train_data.fillna({'Loan_Amount_Term':360.0})"
   ]
  },
  {
   "cell_type": "code",
   "execution_count": null,
   "metadata": {},
   "outputs": [],
   "source": [
    "o = train_data['Credit_History'].value_counts()\n",
    "print(o)\n",
    "train_data = train_data.fillna({'Credit_History':1.0})"
   ]
  },
  {
   "cell_type": "code",
   "execution_count": null,
   "metadata": {},
   "outputs": [],
   "source": [
    "##### Encode to binary ######"
   ]
  },
  {
   "cell_type": "code",
   "execution_count": null,
   "metadata": {},
   "outputs": [],
   "source": [
    "##### Encode to binary data test \n",
    "\n",
    "eb = pd.get_dummies(test_data, columns=['Gender','Married','Dependents','Education','Self_Employed','Property_Area'])\n",
    "print(eb)\n",
    "print(eb.dtypes)"
   ]
  },
  {
   "cell_type": "code",
   "execution_count": null,
   "metadata": {},
   "outputs": [],
   "source": [
    "##### Encode to binary data train\n",
    "\n",
    "fb = pd.get_dummies(train_data, columns=['Gender','Married','Dependents','Education','Self_Employed','Property_Area','Loan_Status'])\n",
    "print(fb)\n",
    "print(fb.dtypes)\n",
    "\n",
    "#### khusus column loan_status will be converted from y/n into 1/0 bcs it will be used as target in learning procedure\n",
    "\n",
    "# replace_loanstat = {'Loan_Status': {'Y':1.0,'N':0.0}}\n",
    "# fb.replace(replace_loanstat, inplace=True)\n",
    "print(fb)\n",
    "print(fb.dtypes)"
   ]
  },
  {
   "cell_type": "code",
   "execution_count": null,
   "metadata": {},
   "outputs": [],
   "source": [
    "##### separate x and y, train and test\n",
    "\n",
    "#### data fb\n",
    "\n",
    "print(fb)"
   ]
  }
 ],
 "metadata": {
  "kernelspec": {
   "display_name": "Python 3",
   "language": "python",
   "name": "python3"
  },
  "language_info": {
   "codemirror_mode": {
    "name": "ipython",
    "version": 3
   },
   "file_extension": ".py",
   "mimetype": "text/x-python",
   "name": "python",
   "nbconvert_exporter": "python",
   "pygments_lexer": "ipython3",
   "version": "3.7.7"
  }
 },
 "nbformat": 4,
 "nbformat_minor": 4
}
